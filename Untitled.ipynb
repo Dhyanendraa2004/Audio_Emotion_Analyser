{
 "cells": [
  {
   "cell_type": "code",
   "execution_count": 1,
   "id": "31231e22",
   "metadata": {},
   "outputs": [
    {
     "name": "stdout",
     "output_type": "stream",
     "text": [
      "Defaulting to user installation because normal site-packages is not writeable\n",
      "Collecting librosa\n",
      "  Using cached librosa-0.10.1-py3-none-any.whl (253 kB)\n",
      "Requirement already satisfied: soundfile in /home/dotes/.local/lib/python3.10/site-packages (0.12.1)\n",
      "Requirement already satisfied: numpy in /usr/lib/python3/dist-packages (1.21.5)\n",
      "Collecting sklearn\n",
      "  Using cached sklearn-0.0.post9-py3-none-any.whl\n",
      "Requirement already satisfied: pyaudio in /home/dotes/.local/lib/python3.10/site-packages (0.2.13)\n",
      "Requirement already satisfied: decorator>=4.3.0 in /usr/lib/python3/dist-packages (from librosa) (4.4.2)\n",
      "Collecting scikit-learn>=0.20.0\n",
      "  Using cached scikit_learn-1.3.1-cp310-cp310-manylinux_2_17_x86_64.manylinux2014_x86_64.whl (10.8 MB)\n",
      "Collecting lazy-loader>=0.1\n",
      "  Using cached lazy_loader-0.3-py3-none-any.whl (9.1 kB)\n",
      "Collecting pooch>=1.0\n",
      "  Using cached pooch-1.7.0-py3-none-any.whl (60 kB)\n",
      "Requirement already satisfied: scipy>=1.2.0 in /usr/lib/python3/dist-packages (from librosa) (1.8.0)\n",
      "Collecting soxr>=0.3.2\n",
      "  Using cached soxr-0.3.6-cp310-cp310-manylinux_2_17_x86_64.manylinux2014_x86_64.whl (1.2 MB)\n",
      "Collecting msgpack>=1.0\n",
      "  Using cached msgpack-1.0.7-cp310-cp310-manylinux_2_17_x86_64.manylinux2014_x86_64.whl (530 kB)\n",
      "Collecting typing-extensions>=4.1.1\n",
      "  Using cached typing_extensions-4.8.0-py3-none-any.whl (31 kB)\n",
      "Collecting numba>=0.51.0\n",
      "  Using cached numba-0.58.0-cp310-cp310-manylinux2014_x86_64.manylinux_2_17_x86_64.whl (3.6 MB)\n",
      "Collecting joblib>=0.14\n",
      "  Using cached joblib-1.3.2-py3-none-any.whl (302 kB)\n",
      "Collecting audioread>=2.1.9\n",
      "  Using cached audioread-3.0.1-py3-none-any.whl (23 kB)\n",
      "Requirement already satisfied: cffi>=1.0 in /home/dotes/.local/lib/python3.10/site-packages (from soundfile) (1.16.0)\n",
      "Requirement already satisfied: pycparser in /home/dotes/.local/lib/python3.10/site-packages (from cffi>=1.0->soundfile) (2.21)\n",
      "Collecting llvmlite<0.42,>=0.41.0dev0\n",
      "  Using cached llvmlite-0.41.0-cp310-cp310-manylinux_2_17_x86_64.manylinux2014_x86_64.whl (43.6 MB)\n",
      "Requirement already satisfied: requests>=2.19.0 in /usr/lib/python3/dist-packages (from pooch>=1.0->librosa) (2.25.1)\n",
      "Requirement already satisfied: packaging>=20.0 in /usr/lib/python3/dist-packages (from pooch>=1.0->librosa) (21.3)\n",
      "Collecting platformdirs>=2.5.0\n",
      "  Using cached platformdirs-3.10.0-py3-none-any.whl (17 kB)\n",
      "Collecting threadpoolctl>=2.0.0\n",
      "  Using cached threadpoolctl-3.2.0-py3-none-any.whl (15 kB)\n",
      "Installing collected packages: sklearn, typing-extensions, threadpoolctl, soxr, platformdirs, msgpack, llvmlite, lazy-loader, joblib, audioread, scikit-learn, pooch, numba, librosa\n",
      "Successfully installed audioread-3.0.1 joblib-1.3.2 lazy-loader-0.3 librosa-0.10.1 llvmlite-0.41.0 msgpack-1.0.7 numba-0.58.0 platformdirs-3.10.0 pooch-1.7.0 scikit-learn-1.3.1 sklearn-0.0.post9 soxr-0.3.6 threadpoolctl-3.2.0 typing-extensions-4.8.0\n"
     ]
    }
   ],
   "source": [
    "!pip install librosa soundfile numpy sklearn pyaudio"
   ]
  },
  {
   "cell_type": "code",
   "execution_count": 2,
   "id": "e37468da",
   "metadata": {},
   "outputs": [
    {
     "name": "stdout",
     "output_type": "stream",
     "text": [
      "Defaulting to user installation because normal site-packages is not writeable\n",
      "Requirement already satisfied: soundfile in /home/dotes/.local/lib/python3.10/site-packages (0.12.1)\n",
      "Requirement already satisfied: cffi>=1.0 in /home/dotes/.local/lib/python3.10/site-packages (from soundfile) (1.16.0)\n",
      "Requirement already satisfied: pycparser in /home/dotes/.local/lib/python3.10/site-packages (from cffi>=1.0->soundfile) (2.21)\n"
     ]
    }
   ],
   "source": [
    "!pip install soundfile"
   ]
  },
  {
   "cell_type": "code",
   "execution_count": 3,
   "id": "09515898",
   "metadata": {},
   "outputs": [],
   "source": [
    "import librosa\n",
    "import soundfile\n",
    "import os, glob, pickle\n",
    "import numpy as np\n",
    "from sklearn.model_selection import train_test_split\n",
    "from sklearn.neural_network import MLPClassifier\n",
    "from sklearn.metrics import accuracy_score"
   ]
  },
  {
   "cell_type": "code",
   "execution_count": 4,
   "id": "6929f360",
   "metadata": {},
   "outputs": [],
   "source": [
    "def extract_feature(file_name, mfcc, chroma, mel):\n",
    "  X, sample_rate= librosa.load(os.path.join(file_name), res_type=\"kaiser_fast\")\n",
    "  if chroma:\n",
    "    stft=np.abs(librosa.stft(X))\n",
    "  result=np.array([])\n",
    "  if mfcc:\n",
    "    mfccs=np.mean(librosa.feature.mfcc (y=X, sr=sample_rate, n_mfcc=40).T, axis=0)\n",
    "    result=np.hstack((result, mfccs))\n",
    "  if chroma:\n",
    "    chroma=np.mean(librosa.feature.chroma_stft(S=stft, sr=sample_rate).T,axis=0)\n",
    "    result=np.hstack((result, chroma))\n",
    "  if mel:\n",
    "    mel-np.mean(librosa.feature.melspectrogram(X, sr=sample_rate).T, axis=0)\n",
    "    result-np.hstack((result, mel))\n",
    "  return result"
   ]
  },
  {
   "cell_type": "code",
   "execution_count": 5,
   "id": "9d7b19d4",
   "metadata": {},
   "outputs": [],
   "source": [
    "emotions={\n",
    "  '01':\"neutral\",\n",
    "  '02':'calm',\n",
    "  '03':\"happy\",\n",
    "  '04':'sad',\n",
    "  '05': 'angry',\n",
    "  '06':'fearful',\n",
    "  '07':'disgust',\n",
    "  '08':'surprised'\n",
    "}\n",
    "#Emotions to observe\n",
    "observe_demotions=['neutral', 'calm', 'happy', 'sad', 'angry', 'fearful', 'disgust', 'surprised']"
   ]
  },
  {
   "cell_type": "code",
   "execution_count": 6,
   "id": "68c4307c",
   "metadata": {},
   "outputs": [],
   "source": [
    "def load_data(test_size=0.2):\n",
    "  x,y=[],[]\n",
    "  for file in glob.glob('/content/drive/My Drive/content/Ravdess/Actor_*/*.wav'):\n",
    "    file_name=os.path.basename(file)\n",
    "    emotion=emotions[file_name.split(\"-\")[2]]\n",
    "    if emotion not in observed_emotions:\n",
    "      continue\n",
    "    feature=extract_feature(file, mfcc-True, chroma=True, mel=True)\n",
    "    x.append(feature)\n",
    "    y.append(emotion)\n",
    "  return train_test_split(np.array(x), y, test_size=test_size, train_size= 0.75, random_state=9)"
   ]
  },
  {
   "cell_type": "code",
   "execution_count": null,
   "id": "fa27821b",
   "metadata": {},
   "outputs": [],
   "source": [
    "from google.colab import drive\n",
    "drive.mount('/content/drive')"
   ]
  },
  {
   "cell_type": "code",
   "execution_count": null,
   "id": "3c1c6402",
   "metadata": {},
   "outputs": [],
   "source": [
    "# splitting the data set between training and testing\n",
    "import time\n",
    "x_train,x_test,y_train,y_test=load_data(test_size=0.25)"
   ]
  },
  {
   "cell_type": "code",
   "execution_count": null,
   "id": "d13577c0",
   "metadata": {},
   "outputs": [],
   "source": [
    "#shape\n",
    "print(x_train.shape[0],x_test.shape[0])"
   ]
  },
  {
   "cell_type": "code",
   "execution_count": null,
   "id": "9de1472e",
   "metadata": {},
   "outputs": [],
   "source": [
    "#getting the number of features\n",
    "print(f'Features extracted: {x_train.shape[1]}')"
   ]
  },
  {
   "cell_type": "code",
   "execution_count": null,
   "id": "0f909ec2",
   "metadata": {},
   "outputs": [],
   "source": [
    "# initialise the classifier model\n",
    "model=MLPClassifier(alpha=0.01, batch_size=256, epsilon=1e-08, hidden_layer_sizes=(300,), learning_rate='adaptive', max_iter=500)"
   ]
  },
  {
   "cell_type": "code",
   "execution_count": null,
   "id": "ebd7495a",
   "metadata": {},
   "outputs": [],
   "source": [
    "#model fitting\n",
    "model.fit(x_train,y_train)"
   ]
  },
  {
   "cell_type": "code",
   "execution_count": null,
   "id": "be4aea23",
   "metadata": {},
   "outputs": [],
   "source": [
    "#checking the testing test\n",
    "y_pred=model.predict(x_test)"
   ]
  },
  {
   "cell_type": "code",
   "execution_count": null,
   "id": "db479bd5",
   "metadata": {},
   "outputs": [],
   "source": [
    "# calculate the accuracy of our model\n",
    "accuracy = accuracy_score(y_true=y_test,y_pred=y_pred)\n",
    "# print the accuracy\n",
    "print(\"Accuracy: {:.2f}%\".format(accuracy*100))"
   ]
  },
  {
   "cell_type": "code",
   "execution_count": null,
   "id": "964b415d",
   "metadata": {},
   "outputs": [],
   "source": [
    "#classification report\n",
    "from sklearn.metrics import classification_report\n",
    "print(classification_report(y_test,y_pred))"
   ]
  },
  {
   "cell_type": "code",
   "execution_count": null,
   "id": "ae698f63",
   "metadata": {},
   "outputs": [],
   "source": [
    "#confusion matrix\n",
    "from sklearn.metrics import confusion_matrix\n",
    "matrix = confusion_matrix(y_test,y_pred)\n",
    "print(matrix)"
   ]
  }
 ],
 "metadata": {
  "kernelspec": {
   "display_name": "Python 3 (ipykernel)",
   "language": "python",
   "name": "python3"
  },
  "language_info": {
   "codemirror_mode": {
    "name": "ipython",
    "version": 3
   },
   "file_extension": ".py",
   "mimetype": "text/x-python",
   "name": "python",
   "nbconvert_exporter": "python",
   "pygments_lexer": "ipython3",
   "version": "3.10.12"
  }
 },
 "nbformat": 4,
 "nbformat_minor": 5
}
